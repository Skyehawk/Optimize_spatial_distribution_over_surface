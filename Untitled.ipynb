{
 "cells": [
  {
   "cell_type": "code",
   "execution_count": 1,
   "id": "521bde9c-592f-4d28-afd7-da78789cff5b",
   "metadata": {},
   "outputs": [
    {
     "name": "stdout",
     "output_type": "stream",
     "text": [
      "Cartesian area: 0.001467\n",
      "Geodesic area: 13205034.647 m^2\n"
     ]
    }
   ],
   "source": [
    "from pyproj import Geod\n",
    "from shapely import wkt\n",
    "\n",
    "poly = wkt.loads(\"\"\"\\\n",
    "    POLYGON ((-116.904 43.371, -116.823 43.389, -116.895 43.407,\n",
    "              -116.908 43.375, -116.904 43.371))\n",
    "\"\"\")\n",
    "\n",
    "print(f\"Cartesian area: {poly.area:.6f}\")\n",
    "# Cartesian area: 0.001467\n",
    "\n",
    "# Specify a named ellipsoid\n",
    "geod = Geod(ellps=\"WGS84\")\n",
    "geod_area = abs(geod.geometry_area_perimeter(poly)[0])\n",
    "\n",
    "print(f\"Geodesic area: {geod_area:.3f} m^2\")\n",
    "# Geodesic area: 13205034.647 m^2\n"
   ]
  },
  {
   "cell_type": "code",
   "execution_count": null,
   "id": "7341494d-26a3-4816-9b06-ea31e408a107",
   "metadata": {},
   "outputs": [],
   "source": []
  }
 ],
 "metadata": {
  "kernelspec": {
   "display_name": "Python 3 (ipykernel)",
   "language": "python",
   "name": "python3"
  },
  "language_info": {
   "codemirror_mode": {
    "name": "ipython",
    "version": 3
   },
   "file_extension": ".py",
   "mimetype": "text/x-python",
   "name": "python",
   "nbconvert_exporter": "python",
   "pygments_lexer": "ipython3",
   "version": "3.11.0"
  }
 },
 "nbformat": 4,
 "nbformat_minor": 5
}
